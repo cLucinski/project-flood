{
 "cells": [
  {
   "cell_type": "markdown",
   "metadata": {},
   "source": [
    "### Install libraries"
   ]
  },
  {
   "cell_type": "code",
   "execution_count": null,
   "metadata": {},
   "outputs": [],
   "source": [
    "%pip install rasterio geopandas shapely matplotlib folium pandas"
   ]
  },
  {
   "cell_type": "markdown",
   "metadata": {},
   "source": [
    "### Load and Visualize DEM Data\n",
    "Use rasterio to read the DEM file and matplotlib to visualize the elevation."
   ]
  },
  {
   "cell_type": "code",
   "execution_count": null,
   "metadata": {},
   "outputs": [],
   "source": [
    "import rasterio\n",
    "import numpy as np\n",
    "import matplotlib.pyplot as plt\n",
    "\n",
    "# Load DEM file\n",
    "dem_path = \"data/s24_w047_1arc_v3.tif\"\n",
    "with rasterio.open(dem_path) as dem:\n",
    "    elevation = dem.read(1)  # Read elevation data (band 1)\n",
    "    extent = [dem.bounds.left, dem.bounds.right, dem.bounds.bottom, dem.bounds.top]\n",
    "\n",
    "# Plot the DEM\n",
    "plt.figure(figsize=(10, 6))\n",
    "plt.imshow(elevation, cmap=\"terrain\", extent=extent)\n",
    "plt.colorbar(label=\"Elevation (m)\")\n",
    "plt.title(\"Digital Elevation Model (DEM) of São Paulo\")\n",
    "plt.show()\n"
   ]
  },
  {
   "cell_type": "markdown",
   "metadata": {},
   "source": [
    "### Identify Low-Lying Areas (Flood-Prone Zones)\n",
    "Identify low-lying areas in the DEM data that are prone to flooding. These areas are typically flat and have low elevation."
   ]
  },
  {
   "cell_type": "code",
   "execution_count": null,
   "metadata": {},
   "outputs": [],
   "source": [
    "# Define a threshold for low elevation (e.g., below 50 meters)\n",
    "low_elevation_threshold = 50\n",
    "low_elevation = elevation < low_elevation_threshold\n",
    "\n",
    "# Plot low-lying areas\n",
    "plt.figure(figsize=(10, 6))\n",
    "plt.imshow(low_elevation, cmap=\"Reds\", extent=extent)\n",
    "plt.title(\"Potential Flood Zones (Low Elevation)\")\n",
    "plt.show()\n"
   ]
  },
  {
   "cell_type": "code",
   "execution_count": null,
   "metadata": {},
   "outputs": [],
   "source": [
    "from scipy.ndimage import gaussian_gradient_magnitude\n",
    "\n",
    "# Calculate the gradient magnitude (slope) of the elevation data\n",
    "slope = gaussian_gradient_magnitude(elevation.astype(float), sigma=1)\n",
    "\n",
    "# Define a threshold for flat areas (e.g., slope below a certain value)\n",
    "flat_threshold = 2  # Adjust this value as needed\n",
    "flat_areas = slope < flat_threshold\n",
    "\n",
    "# Combine low elevation and flatness to identify flood-prone zones\n",
    "flood_prone_zones = low_elevation & flat_areas\n",
    "# print(set(flood_prone_zones.flatten()))\n",
    "\n",
    "# Plot flood-prone zones\n",
    "plt.figure(figsize=(10, 6))\n",
    "plt.imshow(flood_prone_zones, cmap=\"Reds\", extent=extent)\n",
    "plt.title(\"Flood-Prone Zones (Low Elevation and Flat Areas)\")\n",
    "plt.show()"
   ]
  },
  {
   "cell_type": "markdown",
   "metadata": {},
   "source": [
    "### Load and Plot River & Waterbody Data\n",
    "Use geopandas to read the river and waterbody shapefiles and matplotlib to visualize them."
   ]
  },
  {
   "cell_type": "code",
   "execution_count": null,
   "metadata": {},
   "outputs": [],
   "source": [
    "import matplotlib.patches as mpatches\n",
    "import geopandas as gpd\n",
    "\n",
    "# Load river and waterbody data\n",
    "rivers_path = \"data/sao_paulo_waterways.geojson\"\n",
    "waterbodies_path = \"data/sao_paulo_water.geojson\"\n",
    "\n",
    "rivers = gpd.read_file(rivers_path)\n",
    "waterbodies = gpd.read_file(waterbodies_path)\n",
    "\n",
    "# Plot rivers and waterbodies over the DEM\n",
    "fig, ax = plt.subplots(figsize=(10, 6))\n",
    "ax.imshow(flood_prone_zones, cmap=\"Reds\", extent=extent)\n",
    "\n",
    "rivers.plot(ax=ax, color=\"blue\", linewidth=1)\n",
    "waterbodies.plot(ax=ax, color=\"cyan\", alpha=0.5)\n",
    "\n",
    "# Manually create legend patches\n",
    "river_patch = mpatches.Patch(color=\"blue\", label=\"Rivers\")\n",
    "waterbody_patch = mpatches.Patch(color=\"cyan\", label=\"Waterbodies\")\n",
    "plt.legend(handles=[river_patch, waterbody_patch], loc=\"upper right\")\n",
    "plt.title(\"Flood Risk Areas with Rivers and Waterbodies\")\n",
    "plt.show()"
   ]
  },
  {
   "cell_type": "markdown",
   "metadata": {},
   "source": [
    "### Load and Analyze Rainfall Data\n",
    "Use pandas to read the rainfall data and matplotlib to visualize it."
   ]
  },
  {
   "cell_type": "code",
   "execution_count": null,
   "metadata": {},
   "outputs": [],
   "source": [
    "import pandas as pd\n",
    "\n",
    "# Load rainfall data\n",
    "rainfall_path = \"data/sao_paulo_rain_2021-2025.csv\"\n",
    "rainfall_data = pd.read_csv(rainfall_path)\n",
    "\n",
    "# Display first few rows\n",
    "print(rainfall_data.head())\n",
    "\n",
    "# Keep only rows where NAME is \"SAO PAULO AEROPORT, BR\"\n",
    "rainfall_data = rainfall_data[rainfall_data[\"NAME\"] == \"SAO PAULO AEROPORT, BR\"]\n",
    "\n",
    "# Drop unnecessary columns\n",
    "rainfall_data = rainfall_data[[\"DATE\", \"PRCP\", \"LATITUDE\", \"LONGITUDE\"]]  # Keeping only date and precipitation\n",
    "\n",
    "# Convert DATE column to datetime\n",
    "rainfall_data[\"DATE\"] = pd.to_datetime(rainfall_data[\"DATE\"])\n",
    "\n",
    "# Set DATE as the index\n",
    "rainfall_data.set_index(\"DATE\", inplace=True)\n",
    "\n",
    "# Check for missing values\n",
    "# print(rainfall_data.isnull().sum())\n",
    "\n",
    "# Fill missing precipitation values with 0 (assuming no rainfall recorded)\n",
    "rainfall_data.fillna({\"PRCP\": 0}, inplace=True)\n",
    "\n",
    "print(rainfall_data.head())\n"
   ]
  },
  {
   "cell_type": "code",
   "execution_count": null,
   "metadata": {},
   "outputs": [],
   "source": [
    "import matplotlib.pyplot as plt\n",
    "import matplotlib.dates as mdates\n",
    "\n",
    "# Plot precipitation data\n",
    "plt.figure(figsize=(12, 6))\n",
    "plt.plot(rainfall_data.index, rainfall_data[\"PRCP\"], color=\"blue\", label=\"Precipitation (mm)\")\n",
    "\n",
    "# Format x-axis labels\n",
    "plt.gca().xaxis.set_major_locator(mdates.YearLocator())  # Show only years\n",
    "plt.gca().xaxis.set_major_formatter(mdates.DateFormatter(\"%Y\"))  # Format as YYYY\n",
    "plt.gca().xaxis.set_minor_locator(mdates.MonthLocator())  # Optional: add minor ticks for months\n",
    "\n",
    "plt.xlabel(\"Year\")\n",
    "plt.ylabel(\"Rainfall (mm)\")\n",
    "plt.title(\"Rainfall in São Paulo (2021-2025)\")\n",
    "plt.legend()\n",
    "plt.grid()\n",
    "plt.xticks(rotation=45)\n",
    "plt.show()"
   ]
  },
  {
   "cell_type": "markdown",
   "metadata": {},
   "source": [
    "### Combine Data for Flood Risk Analysis\n",
    "Combine the DEM, river, waterbody, and rainfall data to identify areas at risk of flooding.\n",
    "\n",
    "**Step 1: Convert Data to Geospatial Format**  \n",
    "Convert the DEM, rivers, and rainfall data into a compatible geospatial format.\n",
    "\n",
    "Convert DEM to a Binary Flood Risk Layer   \n",
    "Classify areas as flood-prone if their elevation is below a threshold."
   ]
  },
  {
   "cell_type": "code",
   "execution_count": null,
   "metadata": {},
   "outputs": [],
   "source": [
    "import numpy as np\n",
    "\n",
    "# Define flood-prone elevation threshold\n",
    "low_elevation_threshold = 50  # Adjust as needed\n",
    "\n",
    "# Create a binary flood risk layer (1 = flood-prone, 0 = safe)\n",
    "flood_risk = (elevation < low_elevation_threshold).astype(int)\n",
    "\n",
    "# Plot\n",
    "plt.figure(figsize=(10, 6))\n",
    "plt.imshow(flood_risk, cmap=\"Reds\", extent=extent)\n",
    "plt.title(\"Flood-Prone Areas (Low Elevation)\")\n",
    "plt.show()\n"
   ]
  },
  {
   "cell_type": "markdown",
   "metadata": {},
   "source": [
    "**Step 2: Buffer River Data (Proximity to Water)**  \n",
    "Flooding risk is higher near rivers and lakes. Create a buffer zone around them."
   ]
  },
  {
   "cell_type": "code",
   "execution_count": null,
   "metadata": {},
   "outputs": [],
   "source": [
    "import geopandas as gpd\n",
    "import matplotlib.pyplot as plt\n",
    "import matplotlib.patches as mpatches\n",
    "\n",
    "# Step 1: Reproject to Projected CRS (UTM zone 23S)\n",
    "rivers_projected = rivers.to_crs(\"EPSG:32723\")\n",
    "waterbodies_projected = waterbodies.to_crs(\"EPSG:32723\")\n",
    "\n",
    "# Step 2: Create buffers in the projected CRS\n",
    "buffer_distance_meters = 500  # Buffer size in meters\n",
    "\n",
    "rivers_buffered = rivers_projected.copy()\n",
    "rivers_buffered[\"geometry\"] = rivers_projected.geometry.buffer(buffer_distance_meters)\n",
    "\n",
    "waterbodies_buffered = waterbodies_projected.copy()\n",
    "waterbodies_buffered[\"geometry\"] = waterbodies_projected.geometry.buffer(buffer_distance_meters)\n",
    "\n",
    "# Step 3: Plot with manual legend handles\n",
    "fig, ax = plt.subplots(figsize=(10, 6))\n",
    "rivers_buffered.plot(ax=ax, color=\"blue\", alpha=0.5)\n",
    "waterbodies_buffered.plot(ax=ax, color=\"cyan\", alpha=0.5)\n",
    "\n",
    "# Manually add legend handles\n",
    "river_patch = mpatches.Patch(color=\"blue\", label=\"Buffered Rivers (500m)\")\n",
    "waterbody_patch = mpatches.Patch(color=\"cyan\", label=\"Buffered Waterbodies (500m)\")\n",
    "\n",
    "plt.legend(handles=[river_patch, waterbody_patch], loc=\"upper right\")\n",
    "plt.title(\"Buffered Water Sources in Projected CRS with Legend Fix\")\n",
    "plt.show()\n"
   ]
  },
  {
   "cell_type": "markdown",
   "metadata": {},
   "source": [
    "**Step 3: Identify High Rainfall Zones**  \n",
    "Filter days with extreme rainfall and create a spatial join with the DEM.  \n",
    "(For simplicity, we will use a threshold value to identify high rainfall days. Additionally, current data only contains rainfall from one station, at Sao Paulo Airport. So only one point will be used to represent the entire city.)"
   ]
  },
  {
   "cell_type": "code",
   "execution_count": null,
   "metadata": {},
   "outputs": [],
   "source": [
    "# Define extreme rainfall threshold\n",
    "heavy_rain_threshold = 50  # Adjust as needed\n",
    "\n",
    "# Filter high rainfall days\n",
    "heavy_rain_days = rainfall_data[rainfall_data[\"PRCP\"] > heavy_rain_threshold]\n",
    "\n",
    "# Convert to GeoDataFrame\n",
    "rainfall_gdf = gpd.GeoDataFrame(\n",
    "    heavy_rain_days.reset_index(),\n",
    "    geometry=gpd.points_from_xy(heavy_rain_days[\"LONGITUDE\"], heavy_rain_days[\"LATITUDE\"]),\n",
    "    crs=\"EPSG:4326\"\n",
    ")\n",
    "\n",
    "# Plot rainfall stations with high precipitation\n",
    "fig, ax = plt.subplots(figsize=(10, 6))\n",
    "rivers.plot(ax=ax, color=\"blue\", linewidth=0.5)\n",
    "rainfall_gdf.plot(ax=ax, color=\"red\", markersize=50, alpha=0.6, label=\"Heavy Rainfall Stations\")\n",
    "plt.legend()\n",
    "plt.title(\"Heavy Rainfall Locations (>50mm)\")\n",
    "plt.show()\n"
   ]
  },
  {
   "cell_type": "markdown",
   "metadata": {},
   "source": [
    "**Step 4: Combine All Risk Factors**  \n",
    "Merge low elevation, proximity to water, and high rainfall."
   ]
  },
  {
   "cell_type": "code",
   "execution_count": null,
   "metadata": {},
   "outputs": [],
   "source": [
    "import geopandas as gpd\n",
    "import matplotlib.pyplot as plt\n",
    "import matplotlib.patches as mpatches\n",
    "\n",
    "# Step 1: Define flood zones by merging buffered rivers and waterbodies\n",
    "flood_zones = gpd.overlay(rivers_buffered, waterbodies_buffered, how=\"union\")\n",
    "\n",
    "# Ensure rainfall data is in the same CRS before the join\n",
    "rainfall_gdf = rainfall_gdf.to_crs(flood_zones.crs)\n",
    "\n",
    "# Perform the spatial join\n",
    "rainfall_flood_zone = gpd.sjoin(rainfall_gdf, flood_zones, how=\"inner\", predicate=\"intersects\")\n",
    "\n",
    "# Reproject everything back to EPSG:4326 for map coordinates\n",
    "flood_zones_map = flood_zones.to_crs(\"EPSG:4326\")\n",
    "rainfall_flood_zone_map = rainfall_flood_zone.to_crs(\"EPSG:4326\")\n",
    "\n",
    "# Repair invalid geometries\n",
    "flood_zones_map[\"geometry\"] = flood_zones_map[\"geometry\"].buffer(0)\n",
    "rainfall_flood_zone_map[\"geometry\"] = rainfall_flood_zone_map[\"geometry\"].buffer(0)\n",
    "\n",
    "# Check for empty GeoDataFrames before plotting\n",
    "if not flood_zones_map.empty: #and not rainfall_flood_zone_map.empty:\n",
    "    fig, ax = plt.subplots(figsize=(10, 6))\n",
    "    flood_zones_map.plot(ax=ax, color=\"lightblue\", alpha=0.5, label=\"Flood Zones\")\n",
    "    #rainfall_flood_zone_map.plot(ax=ax, color=\"red\", markersize=50, label=\"High Rainfall Areas\")\n",
    "    \n",
    "    plt.xlabel(\"Longitude\")\n",
    "    plt.ylabel(\"Latitude\")\n",
    "    plt.legend()\n",
    "    plt.title(\"Final Flood Risk Map with Map Coordinates (EPSG:4326)\")\n",
    "    plt.show()\n",
    "else:\n",
    "    print(\"No valid geometries to plot.\")\n",
    "\n"
   ]
  }
 ],
 "metadata": {
  "kernelspec": {
   "display_name": "Python 3",
   "language": "python",
   "name": "python3"
  },
  "language_info": {
   "codemirror_mode": {
    "name": "ipython",
    "version": 3
   },
   "file_extension": ".py",
   "mimetype": "text/x-python",
   "name": "python",
   "nbconvert_exporter": "python",
   "pygments_lexer": "ipython3",
   "version": "3.12.2"
  }
 },
 "nbformat": 4,
 "nbformat_minor": 2
}
