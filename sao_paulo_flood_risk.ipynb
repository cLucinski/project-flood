{
 "cells": [
  {
   "cell_type": "markdown",
   "metadata": {},
   "source": [
    "## Install libraries"
   ]
  },
  {
   "cell_type": "code",
   "execution_count": null,
   "metadata": {},
   "outputs": [],
   "source": [
    "%pip install rasterio geopandas shapely matplotlib folium pandas"
   ]
  },
  {
   "cell_type": "markdown",
   "metadata": {},
   "source": [
    "## Load and Visualize DEM Data\n",
    "Use rasterio to read the DEM file and matplotlib to visualize the elevation."
   ]
  },
  {
   "cell_type": "code",
   "execution_count": null,
   "metadata": {},
   "outputs": [],
   "source": [
    "import rasterio\n",
    "import numpy as np\n",
    "import matplotlib.pyplot as plt\n",
    "\n",
    "# Load DEM file\n",
    "dem_path = \"data/s24_w047_1arc_v3.tif\"\n",
    "with rasterio.open(dem_path) as dem:\n",
    "    elevation = dem.read(1)  # Read elevation data (band 1)\n",
    "    extent = [dem.bounds.left, dem.bounds.right, dem.bounds.bottom, dem.bounds.top]\n",
    "\n",
    "# Plot the DEM\n",
    "plt.figure(figsize=(10, 6))\n",
    "plt.imshow(elevation, cmap=\"terrain\", extent=extent)\n",
    "plt.colorbar(label=\"Elevation (m)\")\n",
    "plt.title(\"Digital Elevation Model (DEM) of São Paulo\")\n",
    "plt.show()\n"
   ]
  }
 ],
 "metadata": {
  "kernelspec": {
   "display_name": "Python 3",
   "language": "python",
   "name": "python3"
  },
  "language_info": {
   "codemirror_mode": {
    "name": "ipython",
    "version": 3
   },
   "file_extension": ".py",
   "mimetype": "text/x-python",
   "name": "python",
   "nbconvert_exporter": "python",
   "pygments_lexer": "ipython3",
   "version": "3.12.2"
  }
 },
 "nbformat": 4,
 "nbformat_minor": 2
}
